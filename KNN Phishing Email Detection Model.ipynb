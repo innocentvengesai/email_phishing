{
 "cells": [
  {
   "cell_type": "code",
   "execution_count": 7,
   "id": "b0dc71bf",
   "metadata": {},
   "outputs": [],
   "source": [
    "import csv\n",
    "import pandas as pd\n",
    "import numpy as np\n",
    "from sklearn.model_selection import train_test_split\n",
    "from sklearn.feature_extraction.text import TfidfVectorizer\n",
    "from sklearn.neighbors import KNeighborsClassifier\n",
    "from sklearn.metrics import accuracy_score, classification_report, confusion_matrix, roc_curve, precision_recall_curve, auc\n",
    "import matplotlib.pyplot as plt\n",
    "from sklearn.preprocessing import label_binarize\n",
    "import joblib"
   ]
  },
  {
   "cell_type": "code",
   "execution_count": 9,
   "id": "9a0f7e69",
   "metadata": {},
   "outputs": [
    {
     "data": {
      "text/html": [
       "<div>\n",
       "<style scoped>\n",
       "    .dataframe tbody tr th:only-of-type {\n",
       "        vertical-align: middle;\n",
       "    }\n",
       "\n",
       "    .dataframe tbody tr th {\n",
       "        vertical-align: top;\n",
       "    }\n",
       "\n",
       "    .dataframe thead th {\n",
       "        text-align: right;\n",
       "    }\n",
       "</style>\n",
       "<table border=\"1\" class=\"dataframe\">\n",
       "  <thead>\n",
       "    <tr style=\"text-align: right;\">\n",
       "      <th></th>\n",
       "      <th>subject</th>\n",
       "      <th>body</th>\n",
       "      <th>label</th>\n",
       "    </tr>\n",
       "  </thead>\n",
       "  <tbody>\n",
       "    <tr>\n",
       "      <th>0</th>\n",
       "      <td>job posting - apple-iss research center</td>\n",
       "      <td>content - length : 3386 apple-iss research cen...</td>\n",
       "      <td>0</td>\n",
       "    </tr>\n",
       "    <tr>\n",
       "      <th>1</th>\n",
       "      <td></td>\n",
       "      <td>lang classification grimes , joseph e . and ba...</td>\n",
       "      <td>0</td>\n",
       "    </tr>\n",
       "    <tr>\n",
       "      <th>2</th>\n",
       "      <td>query : letter frequencies for text identifica...</td>\n",
       "      <td>i am posting this inquiry for sergei atamas ( ...</td>\n",
       "      <td>0</td>\n",
       "    </tr>\n",
       "    <tr>\n",
       "      <th>3</th>\n",
       "      <td>risk</td>\n",
       "      <td>a colleague and i are researching the differin...</td>\n",
       "      <td>0</td>\n",
       "    </tr>\n",
       "    <tr>\n",
       "      <th>4</th>\n",
       "      <td>request book information</td>\n",
       "      <td>earlier this morning i was on the phone with a...</td>\n",
       "      <td>0</td>\n",
       "    </tr>\n",
       "    <tr>\n",
       "      <th>...</th>\n",
       "      <td>...</td>\n",
       "      <td>...</td>\n",
       "      <td>...</td>\n",
       "    </tr>\n",
       "    <tr>\n",
       "      <th>2854</th>\n",
       "      <td>win $ 300usd and a cruise !</td>\n",
       "      <td>raquel 's casino , inc . is awarding a cruise ...</td>\n",
       "      <td>1</td>\n",
       "    </tr>\n",
       "    <tr>\n",
       "      <th>2855</th>\n",
       "      <td>you have been asked to join kiddin</td>\n",
       "      <td>the list owner of : \" kiddin \" has invited you...</td>\n",
       "      <td>1</td>\n",
       "    </tr>\n",
       "    <tr>\n",
       "      <th>2856</th>\n",
       "      <td>anglicization of composers ' names</td>\n",
       "      <td>judging from the return post , i must have sou...</td>\n",
       "      <td>0</td>\n",
       "    </tr>\n",
       "    <tr>\n",
       "      <th>2857</th>\n",
       "      <td>re : 6 . 797 , comparative method : n - ary co...</td>\n",
       "      <td>gotcha ! there are two separate fallacies in t...</td>\n",
       "      <td>0</td>\n",
       "    </tr>\n",
       "    <tr>\n",
       "      <th>2858</th>\n",
       "      <td>re : american - english in australia</td>\n",
       "      <td>hello ! i ' m working on a thesis concerning a...</td>\n",
       "      <td>0</td>\n",
       "    </tr>\n",
       "  </tbody>\n",
       "</table>\n",
       "<p>2859 rows × 3 columns</p>\n",
       "</div>"
      ],
      "text/plain": [
       "                                                subject  \\\n",
       "0               job posting - apple-iss research center   \n",
       "1                                                         \n",
       "2     query : letter frequencies for text identifica...   \n",
       "3                                                  risk   \n",
       "4                              request book information   \n",
       "...                                                 ...   \n",
       "2854                        win $ 300usd and a cruise !   \n",
       "2855                 you have been asked to join kiddin   \n",
       "2856                 anglicization of composers ' names   \n",
       "2857  re : 6 . 797 , comparative method : n - ary co...   \n",
       "2858               re : american - english in australia   \n",
       "\n",
       "                                                   body label  \n",
       "0     content - length : 3386 apple-iss research cen...     0  \n",
       "1     lang classification grimes , joseph e . and ba...     0  \n",
       "2     i am posting this inquiry for sergei atamas ( ...     0  \n",
       "3     a colleague and i are researching the differin...     0  \n",
       "4     earlier this morning i was on the phone with a...     0  \n",
       "...                                                 ...   ...  \n",
       "2854  raquel 's casino , inc . is awarding a cruise ...     1  \n",
       "2855  the list owner of : \" kiddin \" has invited you...     1  \n",
       "2856  judging from the return post , i must have sou...     0  \n",
       "2857  gotcha ! there are two separate fallacies in t...     0  \n",
       "2858  hello ! i ' m working on a thesis concerning a...     0  \n",
       "\n",
       "[2859 rows x 3 columns]"
      ]
     },
     "execution_count": 9,
     "metadata": {},
     "output_type": "execute_result"
    }
   ],
   "source": [
    "# Load dataset using CSV module with error handling\n",
    "data = []\n",
    "\n",
    "# Increase the field size limit to avoid the error\n",
    "csv.field_size_limit(1000000)\n",
    "\n",
    "with open('dataset.csv', 'r', encoding='utf-8', errors='ignore') as csvfile:\n",
    "    csv_reader = csv.reader(csvfile)\n",
    "    for row in csv_reader:\n",
    "        data.append(row)\n",
    "\n",
    "# Convert data to DataFrame\n",
    "df = pd.DataFrame(data[1:], columns=data[0])\n",
    "df"
   ]
  },
  {
   "cell_type": "code",
   "execution_count": 10,
   "id": "1120a8ac",
   "metadata": {},
   "outputs": [],
   "source": [
    "# Preprocess data (handle missing values)\n",
    "df.fillna('', inplace=True)  # Replace NaN with empty string"
   ]
  },
  {
   "cell_type": "code",
   "execution_count": 11,
   "id": "478166e7",
   "metadata": {},
   "outputs": [],
   "source": [
    "# Combine 'subject' and 'body' columns for text feature\n",
    "X = df['subject'] + ' ' + df['body']\n",
    "y = df['label']"
   ]
  },
  {
   "cell_type": "code",
   "execution_count": 15,
   "id": "60bd09d1",
   "metadata": {},
   "outputs": [
    {
     "name": "stdout",
     "output_type": "stream",
     "text": [
      "Data Successfully Split\n"
     ]
    }
   ],
   "source": [
    "# Split data into training and testing sets\n",
    "X_train, X_test, y_train, y_test = train_test_split(X, y, test_size=0.2, random_state=42)\n",
    "print('Data Successfully Split')"
   ]
  },
  {
   "cell_type": "code",
   "execution_count": 17,
   "id": "cf595d2f",
   "metadata": {},
   "outputs": [
    {
     "data": {
      "text/plain": [
       "['tfidf_vectorizer.pkl']"
      ]
     },
     "execution_count": 17,
     "metadata": {},
     "output_type": "execute_result"
    }
   ],
   "source": [
    "# Feature extraction (TF-IDF)\n",
    "tfidf_vectorizer = TfidfVectorizer()\n",
    "X_train_tfidf = tfidf_vectorizer.fit_transform(X_train)\n",
    "X_test_tfidf = tfidf_vectorizer.transform(X_test)\n",
    "\n",
    "# Save the TF-IDF vectorizer as a pickle file\n",
    "joblib.dump(tfidf_vectorizer, 'tfidf_vectorizer.pkl')\n",
    "\n"
   ]
  },
  {
   "cell_type": "code",
   "execution_count": 18,
   "id": "e9cb723b",
   "metadata": {},
   "outputs": [],
   "source": [
    "# Train a KNN model\n",
    "model = KNeighborsClassifier(n_neighbors=5)  # Instantiate KNN classifier with 5 neighbors (adjust as needed)\n",
    "model.fit(X_train_tfidf, y_train)\n",
    "\n",
    "# Save the trained model as a pickle file\n",
    "joblib.dump(model, 'knn_model.pkl')\n",
    "\n",
    "# Make predictions\n",
    "y_pred = model.predict(X_test_tfidf)"
   ]
  },
  {
   "cell_type": "code",
   "execution_count": 19,
   "id": "63dd5456",
   "metadata": {},
   "outputs": [],
   "source": [
    "# Evaluate model\n",
    "accuracy = accuracy_score(y_test, y_pred)\n",
    "report = classification_report(y_test, y_pred)\n",
    "conf_matrix = confusion_matrix(y_test, y_pred)\n"
   ]
  },
  {
   "cell_type": "code",
   "execution_count": 20,
   "id": "4c51eca0",
   "metadata": {},
   "outputs": [
    {
     "data": {
      "image/png": "[encoded data removed]",
      "text/plain": [
       "<Figure size 576x432 with 1 Axes>"
      ]
     },
     "metadata": {
      "needs_background": "light"
     },
     "output_type": "display_data"
    }
   ],
   "source": [
    "# Plot bar chart of label distribution\n",
    "train_labels_count = y_train.value_counts()\n",
    "test_labels_count = y_test.value_counts()\n",
    "\n",
    "plt.figure(figsize=(8, 6))\n",
    "plt.bar(train_labels_count.index, train_labels_count.values, alpha=0.5, label='Train Data')\n",
    "plt.bar(test_labels_count.index, test_labels_count.values, alpha=0.5, label='Test Data')\n",
    "plt.xlabel('Label')\n",
    "plt.ylabel('Count')\n",
    "plt.title('Distribution of Phishing and Legitimate Emails')\n",
    "plt.legend()\n",
    "plt.show()\n"
   ]
  },
  {
   "cell_type": "code",
   "execution_count": 21,
   "id": "83ffdb9c",
   "metadata": {},
   "outputs": [
    {
     "name": "stderr",
     "output_type": "stream",
     "text": [
      "C:\\ProgramData\\Anaconda3\\lib\\site-packages\\sklearn\\metrics\\_ranking.py:999: UndefinedMetricWarning: No positive samples in y_true, true positive value should be meaningless\n",
      "  warnings.warn(\n"
     ]
    },
    {
     "data": {
      "image/png": "[encoded data removed]",
      "text/plain": [
       "<Figure size 432x288 with 1 Axes>"
      ]
     },
     "metadata": {
      "needs_background": "light"
     },
     "output_type": "display_data"
    }
   ],
   "source": [
    "# Plot ROC Curve\n",
    "y_test_bin = label_binarize(y_test, classes=['legitimate', 'phishing'])\n",
    "y_pred_prob = model.predict_proba(X_test_tfidf)[:, 1]\n",
    "fpr, tpr, _ = roc_curve(y_test_bin, y_pred_prob)\n",
    "roc_auc = auc(fpr, tpr)\n",
    "\n",
    "plt.figure()\n",
    "plt.plot(fpr, tpr, color='darkorange', lw=2, label=f'ROC curve (area = {roc_auc:.2f})')\n",
    "plt.plot([0, 1], [0, 1], color='navy', lw=2, linestyle='--')\n",
    "plt.xlim([0.0, 1.0])\n",
    "plt.ylim([0.0, 1.05])\n",
    "plt.xlabel('False Positive Rate')\n",
    "plt.ylabel('True Positive Rate')\n",
    "plt.title('Receiver Operating Characteristic (ROC) Curve')\n",
    "plt.legend(loc='lower right')\n",
    "plt.show()"
   ]
  },
  {
   "cell_type": "code",
   "execution_count": 22,
   "id": "7ee6eb0f",
   "metadata": {},
   "outputs": [
    {
     "name": "stderr",
     "output_type": "stream",
     "text": [
      "C:\\ProgramData\\Anaconda3\\lib\\site-packages\\sklearn\\metrics\\_ranking.py:864: RuntimeWarning: invalid value encountered in true_divide\n",
      "  recall = tps / tps[-1]\n"
     ]
    },
    {
     "data": {
      "image/png": "[encoded data removed]",
      "text/plain": [
       "<Figure size 432x288 with 1 Axes>"
      ]
     },
     "metadata": {
      "needs_background": "light"
     },
     "output_type": "display_data"
    }
   ],
   "source": [
    "# Plot Precision-Recall Curve\n",
    "precision, recall, _ = precision_recall_curve(y_test_bin, y_pred_prob)\n",
    "pr_auc = auc(recall, precision)\n",
    "\n",
    "plt.figure()\n",
    "plt.plot(recall, precision, color='blue', lw=2, label=f'Precision-Recall curve (area = {pr_auc:.2f})')\n",
    "plt.xlabel('Recall')\n",
    "plt.ylabel('Precision')\n",
    "plt.title('Precision-Recall Curve')\n",
    "plt.legend(loc='lower left')\n",
    "plt.show()"
   ]
  },
  {
   "cell_type": "code",
   "execution_count": 23,
   "id": "31787881",
   "metadata": {},
   "outputs": [
    {
     "data": {
      "image/png": "[encoded data removed]",
      "text/plain": [
       "<Figure size 576x432 with 1 Axes>"
      ]
     },
     "metadata": {
      "needs_background": "light"
     },
     "output_type": "display_data"
    }
   ],
   "source": [
    "# Evaluate model\n",
    "accuracy = accuracy_score(y_test, y_pred)\n",
    "conf_matrix = confusion_matrix(y_test, y_pred)\n",
    "\n",
    "# Calculate false positives and false negatives\n",
    "false_positives = conf_matrix[0, 1]\n",
    "false_negatives = conf_matrix[1, 0]\n",
    "\n",
    "# Plot false positives and false negatives\n",
    "plt.figure(figsize=(8, 6))\n",
    "labels = ['False Positives', 'False Negatives']\n",
    "values = [false_positives, false_negatives]\n",
    "plt.bar(labels, values, color=['red', 'orange'])\n",
    "plt.ylabel('Count')\n",
    "plt.title('False Positives and False Negatives')\n",
    "plt.show()"
   ]
  },
  {
   "cell_type": "code",
   "execution_count": 24,
   "id": "97636c96",
   "metadata": {},
   "outputs": [
    {
     "data": {
      "image/png": "[encoded data removed]",
      "text/plain": [
       "<Figure size 576x432 with 2 Axes>"
      ]
     },
     "metadata": {
      "needs_background": "light"
     },
     "output_type": "display_data"
    }
   ],
   "source": [
    "# Plot Confusion Matrix\n",
    "plt.figure(figsize=(8, 6))\n",
    "plt.imshow(conf_matrix, interpolation='nearest', cmap=plt.cm.Blues)\n",
    "plt.title('Confusion Matrix')\n",
    "plt.colorbar()\n",
    "plt.xlabel('Predicted Label')\n",
    "plt.ylabel('True Label')\n",
    "plt.xticks([0, 1], ['Legitimate', 'Phishing'])\n",
    "plt.yticks([0, 1], ['Legitimate', 'Phishing'])\n",
    "plt.show()"
   ]
  },
  {
   "cell_type": "code",
   "execution_count": 25,
   "id": "6e5d9b46",
   "metadata": {},
   "outputs": [
    {
     "name": "stdout",
     "output_type": "stream",
     "text": [
      "Accuracy: 0.9685314685314685\n"
     ]
    }
   ],
   "source": [
    "\n",
    "# Display accuracy as text\n",
    "print(f'Accuracy: {accuracy}')"
   ]
  },
  {
   "cell_type": "code",
   "execution_count": 26,
   "id": "07f9c2eb",
   "metadata": {},
   "outputs": [
    {
     "data": {
      "image/png": "[encoded data removed]",
      "text/plain": [
       "<Figure size 432x288 with 1 Axes>"
      ]
     },
     "metadata": {
      "needs_background": "light"
     },
     "output_type": "display_data"
    }
   ],
   "source": [
    "# Plot accuracy percentage with annotation\n",
    "plt.figure(figsize=(6, 4))\n",
    "bar = plt.bar('Accuracy', accuracy * 100, color='green')\n",
    "plt.ylabel('Percentage')\n",
    "plt.title('Accuracy Percentage')\n",
    "plt.ylim(0, 100)\n",
    "\n",
    "# Annotate the bar with the accuracy value\n",
    "for rect in bar:\n",
    "    height = rect.get_height()\n",
    "    plt.text(rect.get_x() + rect.get_width() / 2.0, height, f'{accuracy * 100:.2f}%', ha='center', va='bottom')\n",
    "\n",
    "plt.show()\n"
   ]
  },
  {
   "cell_type": "code",
   "execution_count": null,
   "id": "978d4f74",
   "metadata": {},
   "outputs": [],
   "source": [
    "#WARNING: THIS CODE WAS EXECUTED IN PYCHARM IDE\n",
    "\n",
    "import streamlit as st\n",
    "import pandas as pd\n",
    "from sklearn.feature_extraction.text import TfidfVectorizer\n",
    "from sklearn.neighbors import KNeighborsClassifier\n",
    "import joblib\n",
    "\n",
    "# Load your KNN model\n",
    "@st.cache(allow_output_mutation=True)\n",
    "def load_model():\n",
    "    model = joblib.load(\"knn_model.pkl\")  # Load your trained KNN model\n",
    "    return model\n",
    "\n",
    "# Function to preprocess input text\n",
    "def preprocess_text(text):\n",
    "    # Preprocess your text data here (e.g., tokenization, stop word removal, etc.)\n",
    "    return text\n",
    "\n",
    "def main():\n",
    "    st.title('Phishing Email Detector')\n",
    "\n",
    "    # Load your KNN model\n",
    "    model = load_model()\n",
    "\n",
    "    # Input text for prediction\n",
    "    text_input = st.text_area('Enter email text:', 'Type here...')\n",
    "    if st.button('Predict'):\n",
    "        # Preprocess input text\n",
    "        preprocessed_text = preprocess_text(text_input)\n",
    "\n",
    "        # Load TF-IDF vectorizer\n",
    "        tfidf_vectorizer = joblib.load(\"tfidf_vectorizer.pkl\")  # Load your TF-IDF vectorizer\n",
    "\n",
    "        # Transform preprocessed text into TF-IDF features\n",
    "        input_tfidf = tfidf_vectorizer.transform([preprocessed_text])\n",
    "\n",
    "        # Make prediction\n",
    "        prediction = model.predict(input_tfidf)[0]\n",
    "        if prediction == 'legitimate':\n",
    "            st.success('Prediction: Legitimate Email')\n",
    "        else:\n",
    "            st.error('Prediction: Phishing Email')\n",
    "\n",
    "if __name__ == \"__main__\":\n",
    "    main()\n"
   ]
  }
 ],
 "metadata": {
  "kernelspec": {
   "display_name": "Python 3 (ipykernel)",
   "language": "python",
   "name": "python3"
  },
  "language_info": {
   "codemirror_mode": {
    "name": "ipython",
    "version": 3
   },
   "file_extension": ".py",
   "mimetype": "text/x-python",
   "name": "python",
   "nbconvert_exporter": "python",
   "pygments_lexer": "ipython3",
   "version": "3.9.12"
  }
 },
 "nbformat": 4,
 "nbformat_minor": 5
}
